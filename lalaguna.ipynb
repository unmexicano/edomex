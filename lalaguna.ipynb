{
 "cells": [
  {
   "cell_type": "code",
   "execution_count": 1,
   "metadata": {},
   "outputs": [],
   "source": [
    "import tabula\n",
    "from tabula import read_pdf\n",
    "import pandas as pd\n",
    "import numpy as np\n",
    "import os\n",
    "import requests, zipfile, io\n",
    "import zipfile\n",
    "import sys\n",
    "sys._enablelegacywindowsfsencoding()\n",
    "import re\n",
    "import shutil, os\n",
    "from google_drive_downloader import GoogleDriveDownloader as gdd\n",
    "from datetime import date\n",
    "from datetime import datetime\n",
    "import arrow\n",
    "import pendulum"
   ]
  },
  {
   "cell_type": "code",
   "execution_count": 2,
   "metadata": {},
   "outputs": [],
   "source": [
    "url = \"https://www.dropbox.com/sh/4dgzsyo2q4qbpw6/AABW921AbFtQsPvnL-7ayXGHa/Municipalities/municip_totalCIEISP.dta?dl=1\"  # dl=1 is important\n",
    "import urllib.request\n",
    "u = urllib.request.urlopen(url)\n",
    "data = u.read()\n",
    "u.close()\n",
    " \n",
    "with open('municip_totalCIEISP.dta', \"wb\") as f :\n",
    "    f.write(data)\n",
    "    \n",
    "\n",
    "mpal_hist = pd.read_stata('municip_totalCIEISP.dta',convert_categoricals=True)\n",
    "\n",
    "\n",
    "\n",
    "url = \"https://www.dropbox.com/sh/4dgzsyo2q4qbpw6/AAC5LKOlal7sqQ30xq6u1xiEa/Municipalities/Files/mastermpal.dta?dl=1\"  # dl=1 is important\n",
    "import urllib.request\n",
    "u = urllib.request.urlopen(url)\n",
    "data = u.read()\n",
    "u.close()\n",
    " \n",
    "with open('mastermpal.dta', \"wb\") as f :\n",
    "    f.write(data)\n",
    "    \n",
    "\n",
    "mpal = pd.read_stata('mastermpal.dta',convert_categoricals=False)\n",
    "\n",
    "\n",
    "url = \"https://www.dropbox.com/sh/4dgzsyo2q4qbpw6/AACjwmI52YTURzfHcQxVfhSCa/Municipalities/Files/mun_code.dta?dl=1\"  # dl=1 is important\n",
    "import urllib.request\n",
    "u = urllib.request.urlopen(url)\n",
    "data = u.read()\n",
    "u.close()\n",
    " \n",
    "with open('mun_code.dta', \"wb\") as f :\n",
    "    f.write(data)\n",
    "mun = pd.read_stata('mun_code.dta',convert_categoricals=False)\n",
    "    \n",
    "\n",
    "mpal_mun = pd.merge(mpal,mun)\n",
    "\n",
    "crimes = pd.read_csv('inputs\\crime_code.csv', encoding='latin1')\n",
    "\n",
    "mpal_delitos = pd.merge(mpal_mun,crimes)\n",
    "\n",
    "to_drop = ['Total de delitos','Feminicidio con arma de fuego', 'Lesiones dolosas con arma de fuego','Homicidio doloso con arma de fuego', 'Homicidio doloso sin Fem','Homicidio doloso con arma de fuego sin Fem','Robo en espacio o vía pública','Robo en transporte','Violencia familiar','Lesiones dolosas']\n",
    "mpal_delitos=mpal_delitos[~mpal_delitos['Delitos'].isin(to_drop)]\n",
    "\n",
    "\n"
   ]
  },
  {
   "cell_type": "code",
   "execution_count": null,
   "metadata": {},
   "outputs": [],
   "source": []
  },
  {
   "cell_type": "code",
   "execution_count": 3,
   "metadata": {},
   "outputs": [],
   "source": [
    "pob = pd.read_csv('inputs/mun_reg.csv', engine='python')"
   ]
  },
  {
   "cell_type": "code",
   "execution_count": 4,
   "metadata": {},
   "outputs": [],
   "source": [
    "pob = pob.set_index('mun_code')"
   ]
  },
  {
   "cell_type": "code",
   "execution_count": null,
   "metadata": {},
   "outputs": [],
   "source": []
  },
  {
   "cell_type": "code",
   "execution_count": 5,
   "metadata": {},
   "outputs": [],
   "source": [
    "mpal_delitos = mpal_delitos\n",
    "\n"
   ]
  },
  {
   "cell_type": "code",
   "execution_count": 6,
   "metadata": {},
   "outputs": [],
   "source": [
    "mpal_delitos = mpal_delitos.set_index('mun_code')"
   ]
  },
  {
   "cell_type": "code",
   "execution_count": 7,
   "metadata": {},
   "outputs": [],
   "source": [
    "la_laguna = [\"10007\" , \"10012\" , \"05035\" , \"05017\"]\n",
    "\n",
    "mpal_delitos=mpal_delitos[mpal_delitos['mun_num'].isin(la_laguna)]"
   ]
  },
  {
   "cell_type": "code",
   "execution_count": 8,
   "metadata": {},
   "outputs": [],
   "source": [
    "mpal_delitos.to_csv('laguna.csv')"
   ]
  },
  {
   "cell_type": "code",
   "execution_count": null,
   "metadata": {},
   "outputs": [],
   "source": []
  },
  {
   "cell_type": "code",
   "execution_count": null,
   "metadata": {},
   "outputs": [],
   "source": []
  },
  {
   "cell_type": "code",
   "execution_count": null,
   "metadata": {},
   "outputs": [],
   "source": []
  },
  {
   "cell_type": "code",
   "execution_count": null,
   "metadata": {},
   "outputs": [],
   "source": []
  },
  {
   "cell_type": "code",
   "execution_count": null,
   "metadata": {},
   "outputs": [],
   "source": []
  },
  {
   "cell_type": "code",
   "execution_count": null,
   "metadata": {},
   "outputs": [],
   "source": []
  },
  {
   "cell_type": "code",
   "execution_count": null,
   "metadata": {},
   "outputs": [],
   "source": []
  },
  {
   "cell_type": "code",
   "execution_count": null,
   "metadata": {},
   "outputs": [],
   "source": []
  },
  {
   "cell_type": "code",
   "execution_count": null,
   "metadata": {},
   "outputs": [],
   "source": []
  }
 ],
 "metadata": {
  "kernelspec": {
   "display_name": "Python 3",
   "language": "python",
   "name": "python3"
  },
  "language_info": {
   "codemirror_mode": {
    "name": "ipython",
    "version": 3
   },
   "file_extension": ".py",
   "mimetype": "text/x-python",
   "name": "python",
   "nbconvert_exporter": "python",
   "pygments_lexer": "ipython3",
   "version": "3.7.3"
  }
 },
 "nbformat": 4,
 "nbformat_minor": 2
}
